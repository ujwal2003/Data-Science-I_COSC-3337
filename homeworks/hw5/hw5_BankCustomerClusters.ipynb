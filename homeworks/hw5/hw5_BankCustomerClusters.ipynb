{
 "cells": [
  {
   "cell_type": "markdown",
   "metadata": {},
   "source": [
    "# COSC 3337 - HW5 - Ujwal Joshi\n",
    "## Option 3 - Clusters"
   ]
  },
  {
   "cell_type": "markdown",
   "metadata": {},
   "source": [
    "### Dataset & Task\n",
    "Following is the Data Dictionary for Credit Card dataset :-\n",
    "\n",
    "- `CUST_ID` : Identification of Credit Card holder (Categorical)\n",
    "- `BALANCE` : Balance amount left in their account to make purchases\n",
    "- `BALANCE_FREQUENCY` : How frequently the Balance is updated, score between 0 and 1 (1 = frequently updated, 0 = not frequently updated)\n",
    "- `PURCHASES` : Amount of purchases made from account\n",
    "- `ONEOFF_PURCHASES` : Maximum purchase amount done in one-go\n",
    "- `INSTALLMENTS_PURCHASES` : Amount of purchase done in installment\n",
    "- `CASH_ADVANCE` : Cash in advance given by the user\n",
    "- `PURCHASES_FREQUENCY` : How frequently the Purchases are being made, score between 0 and 1 (1 = frequently purchased, 0 = not frequently purchased)\n",
    "- `ONEOFFPURCHASESFREQUENCY` : How frequently Purchases are happening in one-go (1 = frequently purchased, 0 = not frequently purchased)\n",
    "- `PURCHASESINSTALLMENTSFREQUENCY` : How frequently purchases in installments are being done (1 = frequently done, 0 = not frequently done)\n",
    "- `CASHADVANCEFREQUENCY` : How frequently the cash in advance being paid\n",
    "- `CASHADVANCETRX` : Number of Transactions made with \"Cash in Advanced\"\n",
    "- `PURCHASES_TRX` : Numbe of purchase transactions made\n",
    "- `CREDIT_LIMIT` : Limit of Credit Card for user\n",
    "- `PAYMENTS` : Amount of Payment done by user\n",
    "- `MINIMUM_PAYMENTS` : Minimum amount of payments made by user\n",
    "- `PRCFULLPAYMENT` : Percent of full payment paid by user\n",
    "- `TENURE` : Tenure of credit card service for user\n",
    "  \n",
    "Using the dataset of Bank Customers create `K_Means`, `Hierarchical`, and `DBScan` clusters. Train the models with the dataset. Choose the best cluster numbers for all three models, compare the performance for all three models. Briefly discuss the pros and cons for these three models and the results."
   ]
  }
 ],
 "metadata": {
  "kernelspec": {
   "display_name": "base",
   "language": "python",
   "name": "python3"
  },
  "language_info": {
   "name": "python",
   "version": "3.11.5"
  }
 },
 "nbformat": 4,
 "nbformat_minor": 2
}
