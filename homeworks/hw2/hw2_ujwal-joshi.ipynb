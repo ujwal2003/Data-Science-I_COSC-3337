{
 "cells": [
  {
   "cell_type": "markdown",
   "metadata": {},
   "source": [
    "# COSC 3337 - Homework 2 - Ujwal Joshi\n",
    "Your task for this homework will be to perform exploratory data analysis and predict if a\n",
    "person is prone to a heart attack (0 or 1). "
   ]
  },
  {
   "cell_type": "markdown",
   "metadata": {},
   "source": [
    "Answer the following: Is this a classification or regression task and why?\n",
    "\n",
    "**answer:** This is a classification task because the target output is categorical."
   ]
  },
  {
   "cell_type": "markdown",
   "metadata": {},
   "source": [
    "## Data\n",
    "The dataset that we will be using for this homework contains the following information:\n",
    "- `age`\n",
    "- `sex`\n",
    "- `cp`: chest pain type\n",
    "- `trtbps`: resting blood pressure\n",
    "- `chol`: cholesterol\n",
    "- `fbs`: fasting blood sugar\n",
    "- `restecg`: resting electrocardiographic results\n",
    "- `thalachh`: maximum heart rate achieved\n",
    "- `exng`: exercise induced angina\n",
    "- `oldpeak`: previous peak\n",
    "- `slp`: slope\n",
    "- `caa`: number of major vessels\n",
    "- `thall`: thal rate\n",
    "- `output`: target/labels 0 or 1"
   ]
  },
  {
   "cell_type": "code",
   "execution_count": 1,
   "metadata": {},
   "outputs": [],
   "source": [
    "import pandas as pd\n",
    "import numpy as np\n",
    "import matplotlib.pyplot as plt\n",
    "import seaborn as sb"
   ]
  },
  {
   "cell_type": "markdown",
   "metadata": {},
   "source": [
    "## Step 1\n",
    "Begin by importing the data and displaying the first 5 observations.  \n",
    "\n",
    "Answer the following using Pandas:\n",
    "- How many observations are there in total?\n",
    "- Are there any missing values?\n",
    "- How many unique values are in each column?\n",
    "- Which columns will you treat as categorical, which will you take as continuous, and why?"
   ]
  },
  {
   "cell_type": "code",
   "execution_count": 3,
   "metadata": {},
   "outputs": [
    {
     "data": {
      "text/html": [
       "<div>\n",
       "<style scoped>\n",
       "    .dataframe tbody tr th:only-of-type {\n",
       "        vertical-align: middle;\n",
       "    }\n",
       "\n",
       "    .dataframe tbody tr th {\n",
       "        vertical-align: top;\n",
       "    }\n",
       "\n",
       "    .dataframe thead th {\n",
       "        text-align: right;\n",
       "    }\n",
       "</style>\n",
       "<table border=\"1\" class=\"dataframe\">\n",
       "  <thead>\n",
       "    <tr style=\"text-align: right;\">\n",
       "      <th></th>\n",
       "      <th>age</th>\n",
       "      <th>sex</th>\n",
       "      <th>cp</th>\n",
       "      <th>trtbps</th>\n",
       "      <th>chol</th>\n",
       "      <th>fbs</th>\n",
       "      <th>restecg</th>\n",
       "      <th>thalachh</th>\n",
       "      <th>exng</th>\n",
       "      <th>oldpeak</th>\n",
       "      <th>slp</th>\n",
       "      <th>caa</th>\n",
       "      <th>thall</th>\n",
       "      <th>output</th>\n",
       "    </tr>\n",
       "  </thead>\n",
       "  <tbody>\n",
       "    <tr>\n",
       "      <th>0</th>\n",
       "      <td>63</td>\n",
       "      <td>1</td>\n",
       "      <td>3</td>\n",
       "      <td>145</td>\n",
       "      <td>233</td>\n",
       "      <td>1</td>\n",
       "      <td>0</td>\n",
       "      <td>150</td>\n",
       "      <td>0</td>\n",
       "      <td>2.3</td>\n",
       "      <td>0</td>\n",
       "      <td>0</td>\n",
       "      <td>1</td>\n",
       "      <td>1</td>\n",
       "    </tr>\n",
       "    <tr>\n",
       "      <th>1</th>\n",
       "      <td>37</td>\n",
       "      <td>1</td>\n",
       "      <td>2</td>\n",
       "      <td>130</td>\n",
       "      <td>250</td>\n",
       "      <td>0</td>\n",
       "      <td>1</td>\n",
       "      <td>187</td>\n",
       "      <td>0</td>\n",
       "      <td>3.5</td>\n",
       "      <td>0</td>\n",
       "      <td>0</td>\n",
       "      <td>2</td>\n",
       "      <td>1</td>\n",
       "    </tr>\n",
       "    <tr>\n",
       "      <th>2</th>\n",
       "      <td>41</td>\n",
       "      <td>0</td>\n",
       "      <td>1</td>\n",
       "      <td>130</td>\n",
       "      <td>204</td>\n",
       "      <td>0</td>\n",
       "      <td>0</td>\n",
       "      <td>172</td>\n",
       "      <td>0</td>\n",
       "      <td>1.4</td>\n",
       "      <td>2</td>\n",
       "      <td>0</td>\n",
       "      <td>2</td>\n",
       "      <td>1</td>\n",
       "    </tr>\n",
       "    <tr>\n",
       "      <th>3</th>\n",
       "      <td>56</td>\n",
       "      <td>1</td>\n",
       "      <td>1</td>\n",
       "      <td>120</td>\n",
       "      <td>236</td>\n",
       "      <td>0</td>\n",
       "      <td>1</td>\n",
       "      <td>178</td>\n",
       "      <td>0</td>\n",
       "      <td>0.8</td>\n",
       "      <td>2</td>\n",
       "      <td>0</td>\n",
       "      <td>2</td>\n",
       "      <td>1</td>\n",
       "    </tr>\n",
       "    <tr>\n",
       "      <th>4</th>\n",
       "      <td>57</td>\n",
       "      <td>0</td>\n",
       "      <td>0</td>\n",
       "      <td>120</td>\n",
       "      <td>354</td>\n",
       "      <td>0</td>\n",
       "      <td>1</td>\n",
       "      <td>163</td>\n",
       "      <td>1</td>\n",
       "      <td>0.6</td>\n",
       "      <td>2</td>\n",
       "      <td>0</td>\n",
       "      <td>2</td>\n",
       "      <td>1</td>\n",
       "    </tr>\n",
       "  </tbody>\n",
       "</table>\n",
       "</div>"
      ],
      "text/plain": [
       "   age  sex  cp  trtbps  chol  fbs  restecg  thalachh  exng  oldpeak  slp  \\\n",
       "0   63    1   3     145   233    1        0       150     0      2.3    0   \n",
       "1   37    1   2     130   250    0        1       187     0      3.5    0   \n",
       "2   41    0   1     130   204    0        0       172     0      1.4    2   \n",
       "3   56    1   1     120   236    0        1       178     0      0.8    2   \n",
       "4   57    0   0     120   354    0        1       163     1      0.6    2   \n",
       "\n",
       "   caa  thall  output  \n",
       "0    0      1       1  \n",
       "1    0      2       1  \n",
       "2    0      2       1  \n",
       "3    0      2       1  \n",
       "4    0      2       1  "
      ]
     },
     "execution_count": 3,
     "metadata": {},
     "output_type": "execute_result"
    }
   ],
   "source": [
    "# displaying first 5 observations\n",
    "heart_df = pd.read_csv('data.csv')\n",
    "heart_df.head()"
   ]
  },
  {
   "cell_type": "markdown",
   "metadata": {},
   "source": [
    "How many observations are there in total?"
   ]
  },
  {
   "cell_type": "code",
   "execution_count": 8,
   "metadata": {},
   "outputs": [
    {
     "name": "stdout",
     "output_type": "stream",
     "text": [
      "There are 303 total observations.\n"
     ]
    }
   ],
   "source": [
    "# total observations:\n",
    "print(f'There are {heart_df.shape[0]} total observations.')"
   ]
  },
  {
   "cell_type": "markdown",
   "metadata": {},
   "source": [
    "Are there any missing values?"
   ]
  },
  {
   "cell_type": "code",
   "execution_count": 12,
   "metadata": {},
   "outputs": [
    {
     "data": {
      "text/plain": [
       "age         0\n",
       "sex         0\n",
       "cp          0\n",
       "trtbps      0\n",
       "chol        0\n",
       "fbs         0\n",
       "restecg     0\n",
       "thalachh    0\n",
       "exng        0\n",
       "oldpeak     0\n",
       "slp         0\n",
       "caa         0\n",
       "thall       0\n",
       "output      0\n",
       "dtype: int64"
      ]
     },
     "execution_count": 12,
     "metadata": {},
     "output_type": "execute_result"
    }
   ],
   "source": [
    "# missing values\n",
    "# heart_df.info()\n",
    "heart_df.isnull().sum()"
   ]
  },
  {
   "cell_type": "markdown",
   "metadata": {},
   "source": [
    "How many unique values are in each column?"
   ]
  },
  {
   "cell_type": "code",
   "execution_count": 25,
   "metadata": {},
   "outputs": [
    {
     "data": {
      "text/html": [
       "<div>\n",
       "<style scoped>\n",
       "    .dataframe tbody tr th:only-of-type {\n",
       "        vertical-align: middle;\n",
       "    }\n",
       "\n",
       "    .dataframe tbody tr th {\n",
       "        vertical-align: top;\n",
       "    }\n",
       "\n",
       "    .dataframe thead th {\n",
       "        text-align: right;\n",
       "    }\n",
       "</style>\n",
       "<table border=\"1\" class=\"dataframe\">\n",
       "  <thead>\n",
       "    <tr style=\"text-align: right;\">\n",
       "      <th></th>\n",
       "      <th>Unique Value Count</th>\n",
       "      <th>Unique Values</th>\n",
       "    </tr>\n",
       "  </thead>\n",
       "  <tbody>\n",
       "    <tr>\n",
       "      <th>age</th>\n",
       "      <td>41</td>\n",
       "      <td>[63, 37, 41, 56, 57, 44, 52, 54, 48, 49, 64, 5...</td>\n",
       "    </tr>\n",
       "    <tr>\n",
       "      <th>sex</th>\n",
       "      <td>2</td>\n",
       "      <td>[1, 0]</td>\n",
       "    </tr>\n",
       "    <tr>\n",
       "      <th>cp</th>\n",
       "      <td>4</td>\n",
       "      <td>[3, 2, 1, 0]</td>\n",
       "    </tr>\n",
       "    <tr>\n",
       "      <th>trtbps</th>\n",
       "      <td>49</td>\n",
       "      <td>[145, 130, 120, 140, 172, 150, 110, 135, 160, ...</td>\n",
       "    </tr>\n",
       "    <tr>\n",
       "      <th>chol</th>\n",
       "      <td>152</td>\n",
       "      <td>[233, 250, 204, 236, 354, 192, 294, 263, 199, ...</td>\n",
       "    </tr>\n",
       "    <tr>\n",
       "      <th>fbs</th>\n",
       "      <td>2</td>\n",
       "      <td>[1, 0]</td>\n",
       "    </tr>\n",
       "    <tr>\n",
       "      <th>restecg</th>\n",
       "      <td>3</td>\n",
       "      <td>[0, 1, 2]</td>\n",
       "    </tr>\n",
       "    <tr>\n",
       "      <th>thalachh</th>\n",
       "      <td>91</td>\n",
       "      <td>[150, 187, 172, 178, 163, 148, 153, 173, 162, ...</td>\n",
       "    </tr>\n",
       "    <tr>\n",
       "      <th>exng</th>\n",
       "      <td>2</td>\n",
       "      <td>[0, 1]</td>\n",
       "    </tr>\n",
       "    <tr>\n",
       "      <th>oldpeak</th>\n",
       "      <td>40</td>\n",
       "      <td>[2.3, 3.5, 1.4, 0.8, 0.6, 0.4, 1.3, 0.0, 0.5, ...</td>\n",
       "    </tr>\n",
       "    <tr>\n",
       "      <th>slp</th>\n",
       "      <td>3</td>\n",
       "      <td>[0, 2, 1]</td>\n",
       "    </tr>\n",
       "    <tr>\n",
       "      <th>caa</th>\n",
       "      <td>5</td>\n",
       "      <td>[0, 2, 1, 3, 4]</td>\n",
       "    </tr>\n",
       "    <tr>\n",
       "      <th>thall</th>\n",
       "      <td>4</td>\n",
       "      <td>[1, 2, 3, 0]</td>\n",
       "    </tr>\n",
       "    <tr>\n",
       "      <th>output</th>\n",
       "      <td>2</td>\n",
       "      <td>[1, 0]</td>\n",
       "    </tr>\n",
       "  </tbody>\n",
       "</table>\n",
       "</div>"
      ],
      "text/plain": [
       "          Unique Value Count  \\\n",
       "age                       41   \n",
       "sex                        2   \n",
       "cp                         4   \n",
       "trtbps                    49   \n",
       "chol                     152   \n",
       "fbs                        2   \n",
       "restecg                    3   \n",
       "thalachh                  91   \n",
       "exng                       2   \n",
       "oldpeak                   40   \n",
       "slp                        3   \n",
       "caa                        5   \n",
       "thall                      4   \n",
       "output                     2   \n",
       "\n",
       "                                              Unique Values  \n",
       "age       [63, 37, 41, 56, 57, 44, 52, 54, 48, 49, 64, 5...  \n",
       "sex                                                  [1, 0]  \n",
       "cp                                             [3, 2, 1, 0]  \n",
       "trtbps    [145, 130, 120, 140, 172, 150, 110, 135, 160, ...  \n",
       "chol      [233, 250, 204, 236, 354, 192, 294, 263, 199, ...  \n",
       "fbs                                                  [1, 0]  \n",
       "restecg                                           [0, 1, 2]  \n",
       "thalachh  [150, 187, 172, 178, 163, 148, 153, 173, 162, ...  \n",
       "exng                                                 [0, 1]  \n",
       "oldpeak   [2.3, 3.5, 1.4, 0.8, 0.6, 0.4, 1.3, 0.0, 0.5, ...  \n",
       "slp                                               [0, 2, 1]  \n",
       "caa                                         [0, 2, 1, 3, 4]  \n",
       "thall                                          [1, 2, 3, 0]  \n",
       "output                                               [1, 0]  "
      ]
     },
     "execution_count": 25,
     "metadata": {},
     "output_type": "execute_result"
    }
   ],
   "source": [
    "unique_vals_pd = pd.DataFrame({\n",
    "    'Unique Value Count': heart_df.apply(lambda col: len(col.unique())),\n",
    "    'Unique Values': heart_df.apply(lambda col: col.unique())\n",
    "})\n",
    "\n",
    "unique_vals_pd"
   ]
  },
  {
   "cell_type": "markdown",
   "metadata": {},
   "source": [
    "Which columns will you treat as categorical, which will you take as continuous, and why?  \n",
    "  \n",
    "**answer:**  \n",
    "I will treat the following variables as continuous:\n",
    "- age\n",
    "- trtbps\n",
    "- chol\n",
    "- thalachh\n",
    "- oldpeak\n",
    "  \n",
    "`age` is typically a range of values on a continous scale so it makes sense to treat it as continuous. Bloot pressure and cholestrol (`trtbps` and `chol`) are measured on continuous scales, and `thalachh` is the maximum heart *rate* implying that it is also continous. `oldpeak` can be considered continuous since it representes a previous measurement on a continuous quantitative scale.\n",
    "\n",
    "I will treat the following variables as categorical:\n",
    "- sex\n",
    "- cp\n",
    "- fbs\n",
    "- restecg\n",
    "- exng\n",
    "- slp\n",
    "- caa\n",
    "- thall  \n",
    "\n",
    "`sex`, `fbs`, and `exng` are binary variables representing the presence or absence of something and thus should be treated as categorical. Similarly `cp`, `restecg`, `slp`, `caa`, and `thall` are variables that represent different categories of results at differing and increasing severities or weights, implying that these are likely ordinal and thus should be treated as categorical variables."
   ]
  },
  {
   "cell_type": "markdown",
   "metadata": {},
   "source": [
    "## Step 2\n",
    "Create a plot of your target variable on the x-axis and counts on the y-axis."
   ]
  },
  {
   "cell_type": "code",
   "execution_count": 35,
   "metadata": {},
   "outputs": [
    {
     "data": {
      "image/png": "[encoded data removed]",
      "text/plain": [
       "<Figure size 1000x600 with 1 Axes>"
      ]
     },
     "metadata": {},
     "output_type": "display_data"
    }
   ],
   "source": [
    "plt.figure(figsize=(10, 6))\n",
    "sb.countplot(x='output', data=heart_df, hue='output')\n",
    "\n",
    "plt.ylabel('Count')\n",
    "plt.title('Count of Output')\n",
    "\n",
    "plt.legend(title='Binary', labels=['Low chance of attack (0)', 'High chance of attack (1)'])\n",
    "plt.ylim(120, None)\n",
    "\n",
    "plt.show()\n"
   ]
  },
  {
   "cell_type": "markdown",
   "metadata": {},
   "source": [
    "Answer the following:  \n",
    "Is the dataset balanced? In other words, is there an equal representation of people prone to heart attacks and those who are not.  \n",
    "**answer:**  no, there are far more people who are prone to heart attacks represented in this dataset compared to those who are not.\n",
    "\n",
    "Is working with a balanced dataset important? Why or why not?  \n",
    "**answer:**  Working with a balanced dataset could be important since it might help prevent the model from becoming biased towards one class of the output.\n",
    "\n",
    "How can we deal with an imbalanced dataset?  \n",
    "**answer:**  We could use techniques like stratified k-fold cross-validation to ensure that each fold preserves the class distribution, providing more reliable estimates of model performance."
   ]
  },
  {
   "cell_type": "markdown",
   "metadata": {},
   "source": [
    "### Step 3\n",
    "Create a count plot for *each* of your categorical variables. That is, the variable on the x-axis and counts on the y-axis.  "
   ]
  },
  {
   "cell_type": "code",
   "execution_count": null,
   "metadata": {},
   "outputs": [],
   "source": []
  },
  {
   "cell_type": "markdown",
   "metadata": {},
   "source": [
    "Answer the following:  \n",
    "What can you conclude from the plots you created? Are there any interesting findings?  \n",
    "\n",
    "**answer:**"
   ]
  }
 ],
 "metadata": {
  "kernelspec": {
   "display_name": "base",
   "language": "python",
   "name": "python3"
  },
  "language_info": {
   "codemirror_mode": {
    "name": "ipython",
    "version": 3
   },
   "file_extension": ".py",
   "mimetype": "text/x-python",
   "name": "python",
   "nbconvert_exporter": "python",
   "pygments_lexer": "ipython3",
   "version": "3.11.5"
  }
 },
 "nbformat": 4,
 "nbformat_minor": 2
}
