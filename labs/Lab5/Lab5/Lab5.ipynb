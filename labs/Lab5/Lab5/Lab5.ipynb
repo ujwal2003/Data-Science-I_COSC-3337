{
 "cells": [
  {
   "cell_type": "markdown",
   "id": "34e6ddee-654e-411f-b66c-9fb2244cf1c0",
   "metadata": {},
   "source": [
    "## Lab 5"
   ]
  },
  {
   "cell_type": "code",
   "execution_count": 1,
   "id": "6da362ce-517f-4b15-acb8-b9274bf23fca",
   "metadata": {},
   "outputs": [],
   "source": [
    "import pandas as pd\n",
    "import numpy as np"
   ]
  },
  {
   "cell_type": "markdown",
   "id": "c2de3e09-3e0b-4eb3-bee2-6b1cc4800b27",
   "metadata": {},
   "source": [
    "In this lab, we will use the red wine quality dataset which is attached with the instructions, you can find the description at https://www.kaggle.com/datasets/uciml/red-wine-quality-cortez-et-al-2009/data. "
   ]
  },
  {
   "cell_type": "markdown",
   "id": "40e5f0e2-27f9-4030-b28f-bbae34612d6f",
   "metadata": {},
   "source": [
    "#### Question 1"
   ]
  },
  {
   "cell_type": "markdown",
   "id": "55f771c7-c8a2-46bb-b446-4f6f57ac8fb3",
   "metadata": {},
   "source": [
    "Make a data frame with first 11 columns from the original dataset You will apply the different clusters you learned in class to this dataset. Then,processing the dataset, you may deal with the null value, high related factors. (10)"
   ]
  },
  {
   "cell_type": "code",
   "execution_count": null,
   "id": "d0985372-6803-4526-a33d-464f3ffa54d2",
   "metadata": {},
   "outputs": [],
   "source": [
    "# Write your code here"
   ]
  },
  {
   "cell_type": "markdown",
   "id": "75bc7168-4452-4e3e-b275-e388681284dd",
   "metadata": {},
   "source": [
    " #### Question 2 "
   ]
  },
  {
   "cell_type": "markdown",
   "id": "6bcfdb67-6c48-40d5-8a8e-f7e5cb4f4a2a",
   "metadata": {},
   "source": [
    "Apply K-Means Cluster to the dataset, Apply K-Means Cluster to the dataset, print the Silhouette score (10)."
   ]
  },
  {
   "cell_type": "code",
   "execution_count": null,
   "id": "22a5399d-689a-44ed-aaa1-cea8c7256e24",
   "metadata": {},
   "outputs": [],
   "source": [
    "# Write your code here"
   ]
  },
  {
   "cell_type": "markdown",
   "id": "a8e7d085-4bbc-4794-b82e-6c1ecde8db7f",
   "metadata": {},
   "source": [
    "#### Question 3"
   ]
  },
  {
   "cell_type": "markdown",
   "id": "0e78c3bf-e823-4fce-bd68-f7e1dacbbf41",
   "metadata": {},
   "source": [
    "Apply Hierarchical to the dataset, Apply K-Means Cluster to the dataset, print the Silhouette score.(10)"
   ]
  },
  {
   "cell_type": "code",
   "execution_count": null,
   "id": "5b3c816e-693b-43bd-a789-136c09dcb40e",
   "metadata": {},
   "outputs": [],
   "source": [
    "# Write your code here"
   ]
  },
  {
   "cell_type": "markdown",
   "id": "5ad75ae9-3740-429b-ba25-0f54759a6ec8",
   "metadata": {},
   "source": [
    "#### Question 4"
   ]
  },
  {
   "cell_type": "markdown",
   "id": "e68cbb78-c3ef-4bf2-a7be-7c2d03f2877b",
   "metadata": {},
   "source": [
    "Apply DBScan to the dataset, print the Silhouette score and best cluster number.(10)"
   ]
  },
  {
   "cell_type": "code",
   "execution_count": null,
   "id": "2b7f4a6c-5607-4b0e-a97c-084551cb8dac",
   "metadata": {},
   "outputs": [],
   "source": [
    "# Write your code here"
   ]
  },
  {
   "cell_type": "markdown",
   "id": "b2cac8fb-c6f5-411c-a57d-14c2bfb8097a",
   "metadata": {},
   "source": [
    "#### Question 5"
   ]
  },
  {
   "cell_type": "markdown",
   "id": "38749706-3801-41d1-8b17-caf6f5444b4b",
   "metadata": {},
   "source": [
    "Now make cluster number = 10, redo the cluste process and print the Silhouette scores. (10)"
   ]
  },
  {
   "cell_type": "code",
   "execution_count": null,
   "id": "88f7b98f-9c74-4dc6-a209-411e3d19ba78",
   "metadata": {},
   "outputs": [],
   "source": [
    "# Write your code here"
   ]
  },
  {
   "cell_type": "markdown",
   "id": "7a1d18ff-f313-4fd9-84f0-e804b8e815c3",
   "metadata": {},
   "source": [
    "#### Question 6"
   ]
  },
  {
   "cell_type": "markdown",
   "id": "c34dafa2-9e30-4e20-98aa-9d768503a823",
   "metadata": {},
   "source": [
    "Match the cluster results with the 12th column, \"quality\", to add a column named as \"prediction\". For example, find all the data with quality = 6, and count the number of cluster numbers if in total there are 120 data with quality = 6 and 100 of their cluster numbers are 2, then all the data with cluster number = 2 should be marked as 6 in the \"prediction\" column. (10)"
   ]
  },
  {
   "cell_type": "code",
   "execution_count": 5,
   "id": "84dc3546-ddd7-439f-90e9-e782d6e9e9cd",
   "metadata": {},
   "outputs": [],
   "source": [
    "# Write your code here"
   ]
  },
  {
   "cell_type": "markdown",
   "id": "5f7a61e8-f257-4853-bb60-d5661edb4352",
   "metadata": {},
   "source": [
    "#### Question 7"
   ]
  },
  {
   "cell_type": "markdown",
   "id": "ea270b38-46cb-4cb5-9f12-25d2fdacb4b4",
   "metadata": {},
   "source": [
    "Now get the accracy score with the \"Prediction\" column and \"quality\" column.(10)"
   ]
  },
  {
   "cell_type": "code",
   "execution_count": null,
   "id": "b8766991-b6f2-4dab-bf41-09500df7efc7",
   "metadata": {},
   "outputs": [],
   "source": [
    "# Write your code here"
   ]
  },
  {
   "cell_type": "markdown",
   "id": "bef2af03-8797-429f-b9ea-9ad7a2f252f8",
   "metadata": {},
   "source": [
    "#### Question 8"
   ]
  },
  {
   "cell_type": "markdown",
   "id": "5e4b3280-d6ad-418a-a1b3-b679e651ed9e",
   "metadata": {},
   "source": [
    "Now seperate the data with 80% training set and 20% testing set and train a ANN model with the training set and print the accuracy score of the testing set.(10)"
   ]
  },
  {
   "cell_type": "code",
   "execution_count": null,
   "id": "352d9932-2907-49b7-a1e1-cc93e8c9e67e",
   "metadata": {},
   "outputs": [],
   "source": [
    "# Write your code here"
   ]
  },
  {
   "cell_type": "markdown",
   "id": "176a1720-0f20-47d7-b1b4-efb410f33410",
   "metadata": {},
   "source": [
    "#### Question 9"
   ]
  },
  {
   "cell_type": "markdown",
   "id": "7c35208c-1f78-4043-8ee3-17ba008d41e8",
   "metadata": {},
   "source": [
    "Compare the accuracy scores of the previous four models, which one is the best?(10)"
   ]
  },
  {
   "cell_type": "markdown",
   "id": "74be1f7a-1022-4aeb-8ca7-cd3762199276",
   "metadata": {},
   "source": [
    "Write your code here"
   ]
  },
  {
   "cell_type": "markdown",
   "id": "0cc52800-b53c-446f-bb66-93679cf5a0dc",
   "metadata": {},
   "source": [
    "#### Question 10"
   ]
  },
  {
   "cell_type": "markdown",
   "id": "70d21c7d-efaa-4046-bd59-76154b5584ad",
   "metadata": {},
   "source": [
    "Do you think we can use the unsupervised cluster models tobe a classifier in this way? Why?(10)"
   ]
  },
  {
   "cell_type": "markdown",
   "id": "c077ec9c-7634-4ed1-86e3-bb8e00d37119",
   "metadata": {},
   "source": [
    "Write your code here"
   ]
  }
 ],
 "metadata": {
  "kernelspec": {
   "display_name": "Python 3 (ipykernel)",
   "language": "python",
   "name": "python3"
  },
  "language_info": {
   "codemirror_mode": {
    "name": "ipython",
    "version": 3
   },
   "file_extension": ".py",
   "mimetype": "text/x-python",
   "name": "python",
   "nbconvert_exporter": "python",
   "pygments_lexer": "ipython3",
   "version": "3.11.7"
  }
 },
 "nbformat": 4,
 "nbformat_minor": 5
}
