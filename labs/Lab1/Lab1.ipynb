{
 "cells": [
  {
   "cell_type": "markdown",
   "id": "a3208986",
   "metadata": {},
   "source": [
    "In this Lab, we will practice in Numpy, Pandas and simple linear regression. We will use the dataset mtcars."
   ]
  },
  {
   "cell_type": "code",
   "execution_count": 1,
   "id": "9648665c",
   "metadata": {},
   "outputs": [],
   "source": [
    "import pandas as pd\n",
    "import numpy as np\n",
    "import matplotlib.pyplot as plt"
   ]
  },
  {
   "cell_type": "markdown",
   "id": "a399967a",
   "metadata": {},
   "source": [
    "Use the dataset cars.csv "
   ]
  },
  {
   "cell_type": "code",
   "execution_count": 2,
   "id": "89afb1ef",
   "metadata": {
    "scrolled": true
   },
   "outputs": [
    {
     "data": {
      "text/html": [
       "<div>\n",
       "<style scoped>\n",
       "    .dataframe tbody tr th:only-of-type {\n",
       "        vertical-align: middle;\n",
       "    }\n",
       "\n",
       "    .dataframe tbody tr th {\n",
       "        vertical-align: top;\n",
       "    }\n",
       "\n",
       "    .dataframe thead th {\n",
       "        text-align: right;\n",
       "    }\n",
       "</style>\n",
       "<table border=\"1\" class=\"dataframe\">\n",
       "  <thead>\n",
       "    <tr style=\"text-align: right;\">\n",
       "      <th></th>\n",
       "      <th>make</th>\n",
       "      <th>model</th>\n",
       "      <th>mpg</th>\n",
       "      <th>cyl</th>\n",
       "      <th>disp</th>\n",
       "      <th>hp</th>\n",
       "      <th>drat</th>\n",
       "      <th>wt</th>\n",
       "      <th>qsec</th>\n",
       "      <th>vs</th>\n",
       "      <th>am</th>\n",
       "      <th>gear</th>\n",
       "      <th>carb</th>\n",
       "    </tr>\n",
       "  </thead>\n",
       "  <tbody>\n",
       "    <tr>\n",
       "      <th>0</th>\n",
       "      <td>Mazda</td>\n",
       "      <td>Mazda RX4</td>\n",
       "      <td>21.0</td>\n",
       "      <td>6</td>\n",
       "      <td>160.0</td>\n",
       "      <td>110</td>\n",
       "      <td>3.90</td>\n",
       "      <td>2.620</td>\n",
       "      <td>16.46</td>\n",
       "      <td>0</td>\n",
       "      <td>1</td>\n",
       "      <td>4</td>\n",
       "      <td>4</td>\n",
       "    </tr>\n",
       "    <tr>\n",
       "      <th>1</th>\n",
       "      <td>Mazda</td>\n",
       "      <td>Mazda RX4 Wag</td>\n",
       "      <td>21.0</td>\n",
       "      <td>6</td>\n",
       "      <td>160.0</td>\n",
       "      <td>110</td>\n",
       "      <td>3.90</td>\n",
       "      <td>2.875</td>\n",
       "      <td>17.02</td>\n",
       "      <td>0</td>\n",
       "      <td>1</td>\n",
       "      <td>4</td>\n",
       "      <td>4</td>\n",
       "    </tr>\n",
       "    <tr>\n",
       "      <th>2</th>\n",
       "      <td>Datsun</td>\n",
       "      <td>Datsun 710</td>\n",
       "      <td>22.8</td>\n",
       "      <td>4</td>\n",
       "      <td>108.0</td>\n",
       "      <td>93</td>\n",
       "      <td>3.85</td>\n",
       "      <td>2.320</td>\n",
       "      <td>18.61</td>\n",
       "      <td>1</td>\n",
       "      <td>1</td>\n",
       "      <td>4</td>\n",
       "      <td>1</td>\n",
       "    </tr>\n",
       "    <tr>\n",
       "      <th>3</th>\n",
       "      <td>Hornet</td>\n",
       "      <td>Hornet 4 Drive</td>\n",
       "      <td>21.4</td>\n",
       "      <td>6</td>\n",
       "      <td>258.0</td>\n",
       "      <td>110</td>\n",
       "      <td>3.08</td>\n",
       "      <td>3.215</td>\n",
       "      <td>19.44</td>\n",
       "      <td>1</td>\n",
       "      <td>0</td>\n",
       "      <td>3</td>\n",
       "      <td>1</td>\n",
       "    </tr>\n",
       "    <tr>\n",
       "      <th>4</th>\n",
       "      <td>Hornet</td>\n",
       "      <td>Hornet Sportabout</td>\n",
       "      <td>18.7</td>\n",
       "      <td>8</td>\n",
       "      <td>360.0</td>\n",
       "      <td>175</td>\n",
       "      <td>3.15</td>\n",
       "      <td>3.440</td>\n",
       "      <td>17.02</td>\n",
       "      <td>0</td>\n",
       "      <td>0</td>\n",
       "      <td>3</td>\n",
       "      <td>2</td>\n",
       "    </tr>\n",
       "  </tbody>\n",
       "</table>\n",
       "</div>"
      ],
      "text/plain": [
       "     make              model   mpg  cyl   disp   hp  drat     wt   qsec  vs  \\\n",
       "0   Mazda          Mazda RX4  21.0    6  160.0  110  3.90  2.620  16.46   0   \n",
       "1   Mazda      Mazda RX4 Wag  21.0    6  160.0  110  3.90  2.875  17.02   0   \n",
       "2  Datsun         Datsun 710  22.8    4  108.0   93  3.85  2.320  18.61   1   \n",
       "3  Hornet     Hornet 4 Drive  21.4    6  258.0  110  3.08  3.215  19.44   1   \n",
       "4  Hornet  Hornet Sportabout  18.7    8  360.0  175  3.15  3.440  17.02   0   \n",
       "\n",
       "   am  gear  carb  \n",
       "0   1     4     4  \n",
       "1   1     4     4  \n",
       "2   1     4     1  \n",
       "3   0     3     1  \n",
       "4   0     3     2  "
      ]
     },
     "execution_count": 2,
     "metadata": {},
     "output_type": "execute_result"
    }
   ],
   "source": [
    "cars_df = pd.read_csv(filepath_or_buffer='cars.csv')\n",
    "cars_df.head()"
   ]
  },
  {
   "cell_type": "markdown",
   "id": "d6da17ed",
   "metadata": {},
   "source": [
    "1.Convert the column mpg to numpy array and print the array. (5)"
   ]
  },
  {
   "cell_type": "code",
   "execution_count": 3,
   "id": "9aec0d20",
   "metadata": {},
   "outputs": [
    {
     "data": {
      "text/plain": [
       "array([21. , 21. , 22.8, 21.4, 18.7, 18.1, 14.3, 24.4, 22.8, 19.2, 17.8,\n",
       "       16.4, 17.3, 15.2, 10.4, 10.4, 14.7, 32.4, 30.4, 33.9, 21.5, 15.5,\n",
       "       15.2, 13.3, 19.2, 27.3, 26. , 30.4, 15.8, 19.7, 15. , 21.4])"
      ]
     },
     "execution_count": 3,
     "metadata": {},
     "output_type": "execute_result"
    }
   ],
   "source": [
    "#Enter your code here\n",
    "mpg = np.array(cars_df['mpg'])\n",
    "mpg"
   ]
  },
  {
   "cell_type": "markdown",
   "id": "dda25532",
   "metadata": {},
   "source": [
    "2. calculate how many cars' mpg is under 15. (5)"
   ]
  },
  {
   "cell_type": "code",
   "execution_count": 7,
   "id": "113a887a",
   "metadata": {},
   "outputs": [
    {
     "data": {
      "text/plain": [
       "5"
      ]
     },
     "execution_count": 7,
     "metadata": {},
     "output_type": "execute_result"
    }
   ],
   "source": [
    "#Enter your code here\n",
    "(mpg < 15).sum()"
   ]
  },
  {
   "cell_type": "markdown",
   "id": "289ff8d7",
   "metadata": {},
   "source": [
    "3.Show the models that their mpg is under 15. (10)"
   ]
  },
  {
   "cell_type": "code",
   "execution_count": 11,
   "id": "d227f0a3",
   "metadata": {
    "scrolled": true
   },
   "outputs": [
    {
     "data": {
      "text/html": [
       "<div>\n",
       "<style scoped>\n",
       "    .dataframe tbody tr th:only-of-type {\n",
       "        vertical-align: middle;\n",
       "    }\n",
       "\n",
       "    .dataframe tbody tr th {\n",
       "        vertical-align: top;\n",
       "    }\n",
       "\n",
       "    .dataframe thead th {\n",
       "        text-align: right;\n",
       "    }\n",
       "</style>\n",
       "<table border=\"1\" class=\"dataframe\">\n",
       "  <thead>\n",
       "    <tr style=\"text-align: right;\">\n",
       "      <th></th>\n",
       "      <th>model</th>\n",
       "      <th>mpg</th>\n",
       "    </tr>\n",
       "  </thead>\n",
       "  <tbody>\n",
       "    <tr>\n",
       "      <th>6</th>\n",
       "      <td>Duster 360</td>\n",
       "      <td>14.3</td>\n",
       "    </tr>\n",
       "    <tr>\n",
       "      <th>14</th>\n",
       "      <td>Cadillac Fleetwood</td>\n",
       "      <td>10.4</td>\n",
       "    </tr>\n",
       "    <tr>\n",
       "      <th>15</th>\n",
       "      <td>Lincoln Continental</td>\n",
       "      <td>10.4</td>\n",
       "    </tr>\n",
       "    <tr>\n",
       "      <th>16</th>\n",
       "      <td>Chrysler Imperial</td>\n",
       "      <td>14.7</td>\n",
       "    </tr>\n",
       "    <tr>\n",
       "      <th>23</th>\n",
       "      <td>Camaro Z28</td>\n",
       "      <td>13.3</td>\n",
       "    </tr>\n",
       "  </tbody>\n",
       "</table>\n",
       "</div>"
      ],
      "text/plain": [
       "                  model   mpg\n",
       "6            Duster 360  14.3\n",
       "14   Cadillac Fleetwood  10.4\n",
       "15  Lincoln Continental  10.4\n",
       "16    Chrysler Imperial  14.7\n",
       "23           Camaro Z28  13.3"
      ]
     },
     "execution_count": 11,
     "metadata": {},
     "output_type": "execute_result"
    }
   ],
   "source": [
    "#Enter your code here\n",
    "mpg_15 = cars_df[cars_df['mpg'] < 15]\n",
    "mpg_15_models = mpg_15[['model', 'mpg']]\n",
    "mpg_15_models"
   ]
  },
  {
   "cell_type": "markdown",
   "id": "67333d12",
   "metadata": {},
   "source": [
    "4.Show how many unique make does the dataset have and print them out. (10)"
   ]
  },
  {
   "cell_type": "code",
   "execution_count": 18,
   "id": "a37f4060",
   "metadata": {
    "scrolled": true
   },
   "outputs": [
    {
     "name": "stdout",
     "output_type": "stream",
     "text": [
      "22 unique makes\n",
      " ['Mazda' 'Datsun' 'Hornet' 'Valiant' 'Duster' 'Merc' 'Cadillac' 'Lincoln'\n",
      " 'Chrysler' 'Fiat' 'Honda' 'Toyota' 'Dodge' 'AMC' 'Camaro' 'Pontiac'\n",
      " 'Porsche' 'Lotus' 'Ford' 'Ferrari' 'Maserati' 'Volvo']\n"
     ]
    }
   ],
   "source": [
    "#Enter your code here\n",
    "unique_makes = cars_df['make'].unique()\n",
    "print(f'{len(unique_makes)} unique makes\\n', unique_makes)"
   ]
  },
  {
   "cell_type": "markdown",
   "id": "e87413d8",
   "metadata": {},
   "source": [
    "5.Show how many cars each make has. (10)"
   ]
  },
  {
   "cell_type": "code",
   "execution_count": 26,
   "id": "8dc48950",
   "metadata": {},
   "outputs": [
    {
     "data": {
      "text/plain": [
       "make\n",
       "AMC         1\n",
       "Cadillac    1\n",
       "Camaro      1\n",
       "Chrysler    1\n",
       "Datsun      1\n",
       "Dodge       1\n",
       "Duster      1\n",
       "Ferrari     1\n",
       "Fiat        2\n",
       "Ford        1\n",
       "Honda       1\n",
       "Hornet      2\n",
       "Lincoln     1\n",
       "Lotus       1\n",
       "Maserati    1\n",
       "Mazda       2\n",
       "Merc        7\n",
       "Pontiac     1\n",
       "Porsche     1\n",
       "Toyota      2\n",
       "Valiant     1\n",
       "Volvo       1\n",
       "dtype: int64"
      ]
     },
     "execution_count": 26,
     "metadata": {},
     "output_type": "execute_result"
    }
   ],
   "source": [
    "#Enter your code here\n",
    "num_cars_make = cars_df[['make', 'model']].groupby('make').size()\n",
    "num_cars_make"
   ]
  },
  {
   "cell_type": "markdown",
   "id": "2d67a54f",
   "metadata": {},
   "source": [
    "6.Creat the scatter plot with X axis is hp and Y axis is mpg.(10)"
   ]
  },
  {
   "cell_type": "code",
   "execution_count": 29,
   "id": "75fbacdd",
   "metadata": {},
   "outputs": [
    {
     "data": {
      "text/plain": [
       "<Axes: xlabel='hp', ylabel='mpg'>"
      ]
     },
     "execution_count": 29,
     "metadata": {},
     "output_type": "execute_result"
    },
    {
     "data": {
      "image/png": "[encoded data removed]",
      "text/plain": [
       "<Figure size 640x480 with 1 Axes>"
      ]
     },
     "metadata": {},
     "output_type": "display_data"
    }
   ],
   "source": [
    "#Enter your code here\n",
    "cars_df.plot(kind = 'scatter', x = 'hp', y = 'mpg')"
   ]
  },
  {
   "cell_type": "markdown",
   "id": "e8f6d4d6",
   "metadata": {},
   "source": [
    "7.Train the linear model using hp as variable and MPG as target and print $\\theta_{0}$, $\\theta_{1}$ (10) \n",
    "\n",
    "(hint: use the fomula: $\\theta = (\\mathrm{X}^{T}\\mathrm{X})^{-1}\\mathrm{X}^{T}\\mathrm{y}$)"
   ]
  },
  {
   "cell_type": "code",
   "execution_count": 28,
   "id": "2ec40e1d",
   "metadata": {},
   "outputs": [
    {
     "data": {
      "text/plain": [
       "array([30.09886054, -0.06822828])"
      ]
     },
     "execution_count": 28,
     "metadata": {},
     "output_type": "execute_result"
    }
   ],
   "source": [
    "#Enter your code here\n",
    "hp = cars_df['hp']\n",
    "a = np.ones((hp.shape[0], 1))\n",
    "X = np.hstack((a, hp.values.reshape(-1, 1)))\n",
    "y = cars_df['mpg']\n",
    "\n",
    "theta = np.matmul(np.linalg.inv(np.matmul(X.T, X)), np.matmul(X.T, y))\n",
    "theta"
   ]
  },
  {
   "cell_type": "markdown",
   "id": "dfe56b1a",
   "metadata": {},
   "source": [
    "8.Plat the scatter plot again with the line showing the linear model.(10)"
   ]
  },
  {
   "cell_type": "code",
   "execution_count": 30,
   "id": "fcba9108",
   "metadata": {},
   "outputs": [
    {
     "data": {
      "image/png": "[encoded data removed]",
      "text/plain": [
       "<Figure size 640x480 with 1 Axes>"
      ]
     },
     "metadata": {},
     "output_type": "display_data"
    }
   ],
   "source": [
    "#Enter your code here\n",
    "cars_df.plot(kind = 'scatter', x = 'hp', y = 'mpg')\n",
    "plt.plot(X,theta[0]+theta[1]*X, \"b\")\n",
    "plt.show()"
   ]
  },
  {
   "cell_type": "markdown",
   "id": "e9303ae8",
   "metadata": {},
   "source": [
    "9.Random choose 3 datapoint from the dataset, use the linear model to predict the MPG with HP, show the difference between predict value and real value. (10)"
   ]
  },
  {
   "cell_type": "code",
   "execution_count": 71,
   "id": "7bbf7bb9",
   "metadata": {},
   "outputs": [
    {
     "name": "stdout",
     "output_type": "stream",
     "text": [
      "datapoint 1 at index 18:\n",
      "\t has an HP of 52\n",
      "\t the model predicted it has an mpg of 26.550990079901162\n",
      "\t the actual mpg is 30.4\n",
      "\t the difference between the predicted and actual mpg value is: 3.849009920098837\n",
      "\n",
      "datapoint 2 at index 7:\n",
      "\t has an HP of 62\n",
      "\t the model predicted it has an mpg of 25.868707299185527\n",
      "\t the actual mpg is 24.4\n",
      "\t the difference between the predicted and actual mpg value is: 1.4687072991855281\n",
      "\n",
      "datapoint 3 at index 29:\n",
      "\t has an HP of 175\n",
      "\t the model predicted it has an mpg of 18.158911877098852\n",
      "\t the actual mpg is 19.7\n",
      "\t the difference between the predicted and actual mpg value is: 1.5410881229011473\n",
      "\n"
     ]
    }
   ],
   "source": [
    "#Enter your code here\n",
    "datapoints = cars_df.sample(n=3)\n",
    "actual_hp_mpg = [(df_index, hp_df, mpg_df) for df_index, hp_df, mpg_df in zip(datapoints.index, datapoints['hp'], datapoints['mpg'])]\n",
    "\n",
    "model_data = []\n",
    "\n",
    "i = 1\n",
    "for datapoint in actual_hp_mpg:\n",
    "    curr_idx = datapoint[0] # index of datapoint\n",
    "    obs_hp = datapoint[1] # observed HP\n",
    "    obs_mpg = datapoint[2] # actual MPG\n",
    "\n",
    "    pred_mpg = theta[0] + theta[1] * obs_hp # predicted mpg from model\n",
    "    diff_mpg = abs(pred_mpg - obs_mpg)\n",
    "\n",
    "    model_data.append({\n",
    "        \"idf_ndex\": curr_idx,\n",
    "        \"hp\": obs_hp,\n",
    "        \"obs_mpg\": obs_mpg,\n",
    "        \"pred_mpg\": pred_mpg\n",
    "    })\n",
    "\n",
    "    print(f'datapoint {i} at index {curr_idx}:\\n\\t has an HP of {obs_hp}\\n\\t the model predicted it has an mpg of {pred_mpg}\\n\\t the actual mpg is {obs_mpg}')\n",
    "    print(f'\\t the difference between the predicted and actual mpg value is: {diff_mpg}\\n')\n",
    "    i += 1"
   ]
  },
  {
   "cell_type": "markdown",
   "id": "3eb510b9",
   "metadata": {},
   "source": [
    "10.Explain the why some differences are large, some are not(10)"
   ]
  },
  {
   "cell_type": "markdown",
   "id": "6c8b8056",
   "metadata": {},
   "source": [
    "**The reason why some difference are large and some are not could be because the model is not a great fit for the data, another reason is that maybe the data contains extreme values and outliers which may impact the accuracy of the model.**"
   ]
  },
  {
   "cell_type": "markdown",
   "id": "06b18002",
   "metadata": {},
   "source": [
    "11.Find $\\mathrm{R}^{2}$ and use $\\mathrm{R}^{2}$ to explain whether the model is accurate.(10)"
   ]
  },
  {
   "cell_type": "code",
   "execution_count": 72,
   "id": "56b04f2a",
   "metadata": {},
   "outputs": [
    {
     "data": {
      "text/plain": [
       "0.663687604040206"
      ]
     },
     "execution_count": 72,
     "metadata": {},
     "output_type": "execute_result"
    }
   ],
   "source": [
    "#Enter your code here\n",
    "# R^2, the Coefficient of Determination, can be found using the formula: 1 - (SSR/SST)\n",
    "# where SSR is the sum of residuals squared, and SST is the total sum of squares\n",
    "\n",
    "# finding SSR:\n",
    "calc_residual = lambda act_y, pred_y: act_y - pred_y\n",
    "residuals = [calc_residual(d[\"obs_mpg\"], d[\"pred_mpg\"]) for d in model_data]\n",
    "SSR = sum([r**2 for r in residuals])\n",
    "\n",
    "# SST is sum of squared distance the actual value is away from the mean value\n",
    "mean_y = sum([y[\"obs_mpg\"] for y in model_data])/len(model_data)\n",
    "sq_dist = lambda act_y: (act_y - mean_y)**2\n",
    "SST = sum([sq_dist(y[\"obs_mpg\"]) for y in model_data])\n",
    "\n",
    "R_squared = 1 - (SSR/SST)\n",
    "R_squared\n"
   ]
  },
  {
   "cell_type": "markdown",
   "id": "10cf044e",
   "metadata": {},
   "source": [
    "**The R^2 value indicates that roughly 66.37% of the variation in the mpg values can be explained by our model. This model explains most of the variance in the data but could be improved.**"
   ]
  }
 ],
 "metadata": {
  "kernelspec": {
   "display_name": "Python 3 (ipykernel)",
   "language": "python",
   "name": "python3"
  },
  "language_info": {
   "codemirror_mode": {
    "name": "ipython",
    "version": 3
   },
   "file_extension": ".py",
   "mimetype": "text/x-python",
   "name": "python",
   "nbconvert_exporter": "python",
   "pygments_lexer": "ipython3",
   "version": "3.11.5"
  }
 },
 "nbformat": 4,
 "nbformat_minor": 5
}
