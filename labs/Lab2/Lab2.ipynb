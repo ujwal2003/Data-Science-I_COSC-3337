{
 "cells": [
  {
   "cell_type": "code",
   "execution_count": 4,
   "id": "f7fec427",
   "metadata": {},
   "outputs": [],
   "source": [
    "import pandas as pd\n",
    "import numpy as np\n",
    "import matplotlib.pyplot as plt\n",
    "import sklearn as skl\n",
    "import seaborn as sb"
   ]
  },
  {
   "cell_type": "markdown",
   "id": "3f5d6993",
   "metadata": {},
   "source": [
    "Use the dataset framingham, the data set is used to predict the 10 year risk of coronary heart disease CHD. The following is description of each feature. "
   ]
  },
  {
   "cell_type": "markdown",
   "id": "414e690a",
   "metadata": {},
   "source": [
    "• Sex: male or female(Nominal) <br>\n",
    "• Age: Age of the patient; <br>\n",
    "Behavioral<br>\n",
    "• Current Smoker: whether or not the patient is a current smoker <br>\n",
    "• Cigs Per Day: the number of cigarettes that the person smoked on average in one day.<br>\n",
    "Medical( history)<br>\n",
    "• BP Meds: whether or not the patient was on blood pressure medication <br>\n",
    "• Prevalent Stroke: whether or not the patient had previously had a stroke <br>\n",
    "• Prevalent Hyp: whether or not the patient was hypertensive (Nominal)<br>\n",
    "• Diabetes: whether or not the patient had diabetes <br>\n",
    "Medical(current)<br>\n",
    "• Tot Chol: total cholesterol level <br>\n",
    "• Sys BP: systolic blood pressure <br>\n",
    "• Dia BP: diastolic blood pressure <br>\n",
    "• BMI: Body Mass Index <br>\n",
    "• Heart Rate: heart rate <br>\n",
    "• Glucose: glucose level <br>\n",
    "Predict variable (desired target)<br>\n",
    "• 10 year risk of coronary heart disease CHD (“1”, means “Yes”, “0” means “No”)<br>"
   ]
  },
  {
   "cell_type": "code",
   "execution_count": 12,
   "id": "c9d2b9ef",
   "metadata": {},
   "outputs": [
    {
     "data": {
      "text/html": [
       "<div>\n",
       "<style scoped>\n",
       "    .dataframe tbody tr th:only-of-type {\n",
       "        vertical-align: middle;\n",
       "    }\n",
       "\n",
       "    .dataframe tbody tr th {\n",
       "        vertical-align: top;\n",
       "    }\n",
       "\n",
       "    .dataframe thead th {\n",
       "        text-align: right;\n",
       "    }\n",
       "</style>\n",
       "<table border=\"1\" class=\"dataframe\">\n",
       "  <thead>\n",
       "    <tr style=\"text-align: right;\">\n",
       "      <th></th>\n",
       "      <th>male</th>\n",
       "      <th>age</th>\n",
       "      <th>education</th>\n",
       "      <th>currentSmoker</th>\n",
       "      <th>cigsPerDay</th>\n",
       "      <th>BPMeds</th>\n",
       "      <th>prevalentStroke</th>\n",
       "      <th>prevalentHyp</th>\n",
       "      <th>diabetes</th>\n",
       "      <th>totChol</th>\n",
       "      <th>sysBP</th>\n",
       "      <th>diaBP</th>\n",
       "      <th>BMI</th>\n",
       "      <th>heartRate</th>\n",
       "      <th>glucose</th>\n",
       "      <th>TenYearCHD</th>\n",
       "    </tr>\n",
       "  </thead>\n",
       "  <tbody>\n",
       "    <tr>\n",
       "      <th>0</th>\n",
       "      <td>1</td>\n",
       "      <td>39</td>\n",
       "      <td>4.0</td>\n",
       "      <td>0</td>\n",
       "      <td>0.0</td>\n",
       "      <td>0.0</td>\n",
       "      <td>0</td>\n",
       "      <td>0</td>\n",
       "      <td>0</td>\n",
       "      <td>195.0</td>\n",
       "      <td>106.0</td>\n",
       "      <td>70.0</td>\n",
       "      <td>26.97</td>\n",
       "      <td>80.0</td>\n",
       "      <td>77.0</td>\n",
       "      <td>0</td>\n",
       "    </tr>\n",
       "    <tr>\n",
       "      <th>1</th>\n",
       "      <td>0</td>\n",
       "      <td>46</td>\n",
       "      <td>2.0</td>\n",
       "      <td>0</td>\n",
       "      <td>0.0</td>\n",
       "      <td>0.0</td>\n",
       "      <td>0</td>\n",
       "      <td>0</td>\n",
       "      <td>0</td>\n",
       "      <td>250.0</td>\n",
       "      <td>121.0</td>\n",
       "      <td>81.0</td>\n",
       "      <td>28.73</td>\n",
       "      <td>95.0</td>\n",
       "      <td>76.0</td>\n",
       "      <td>0</td>\n",
       "    </tr>\n",
       "    <tr>\n",
       "      <th>2</th>\n",
       "      <td>1</td>\n",
       "      <td>48</td>\n",
       "      <td>1.0</td>\n",
       "      <td>1</td>\n",
       "      <td>20.0</td>\n",
       "      <td>0.0</td>\n",
       "      <td>0</td>\n",
       "      <td>0</td>\n",
       "      <td>0</td>\n",
       "      <td>245.0</td>\n",
       "      <td>127.5</td>\n",
       "      <td>80.0</td>\n",
       "      <td>25.34</td>\n",
       "      <td>75.0</td>\n",
       "      <td>70.0</td>\n",
       "      <td>0</td>\n",
       "    </tr>\n",
       "    <tr>\n",
       "      <th>3</th>\n",
       "      <td>0</td>\n",
       "      <td>61</td>\n",
       "      <td>3.0</td>\n",
       "      <td>1</td>\n",
       "      <td>30.0</td>\n",
       "      <td>0.0</td>\n",
       "      <td>0</td>\n",
       "      <td>1</td>\n",
       "      <td>0</td>\n",
       "      <td>225.0</td>\n",
       "      <td>150.0</td>\n",
       "      <td>95.0</td>\n",
       "      <td>28.58</td>\n",
       "      <td>65.0</td>\n",
       "      <td>103.0</td>\n",
       "      <td>1</td>\n",
       "    </tr>\n",
       "    <tr>\n",
       "      <th>4</th>\n",
       "      <td>0</td>\n",
       "      <td>46</td>\n",
       "      <td>3.0</td>\n",
       "      <td>1</td>\n",
       "      <td>23.0</td>\n",
       "      <td>0.0</td>\n",
       "      <td>0</td>\n",
       "      <td>0</td>\n",
       "      <td>0</td>\n",
       "      <td>285.0</td>\n",
       "      <td>130.0</td>\n",
       "      <td>84.0</td>\n",
       "      <td>23.10</td>\n",
       "      <td>85.0</td>\n",
       "      <td>85.0</td>\n",
       "      <td>0</td>\n",
       "    </tr>\n",
       "    <tr>\n",
       "      <th>...</th>\n",
       "      <td>...</td>\n",
       "      <td>...</td>\n",
       "      <td>...</td>\n",
       "      <td>...</td>\n",
       "      <td>...</td>\n",
       "      <td>...</td>\n",
       "      <td>...</td>\n",
       "      <td>...</td>\n",
       "      <td>...</td>\n",
       "      <td>...</td>\n",
       "      <td>...</td>\n",
       "      <td>...</td>\n",
       "      <td>...</td>\n",
       "      <td>...</td>\n",
       "      <td>...</td>\n",
       "      <td>...</td>\n",
       "    </tr>\n",
       "    <tr>\n",
       "      <th>4233</th>\n",
       "      <td>1</td>\n",
       "      <td>50</td>\n",
       "      <td>1.0</td>\n",
       "      <td>1</td>\n",
       "      <td>1.0</td>\n",
       "      <td>0.0</td>\n",
       "      <td>0</td>\n",
       "      <td>1</td>\n",
       "      <td>0</td>\n",
       "      <td>313.0</td>\n",
       "      <td>179.0</td>\n",
       "      <td>92.0</td>\n",
       "      <td>25.97</td>\n",
       "      <td>66.0</td>\n",
       "      <td>86.0</td>\n",
       "      <td>1</td>\n",
       "    </tr>\n",
       "    <tr>\n",
       "      <th>4234</th>\n",
       "      <td>1</td>\n",
       "      <td>51</td>\n",
       "      <td>3.0</td>\n",
       "      <td>1</td>\n",
       "      <td>43.0</td>\n",
       "      <td>0.0</td>\n",
       "      <td>0</td>\n",
       "      <td>0</td>\n",
       "      <td>0</td>\n",
       "      <td>207.0</td>\n",
       "      <td>126.5</td>\n",
       "      <td>80.0</td>\n",
       "      <td>19.71</td>\n",
       "      <td>65.0</td>\n",
       "      <td>68.0</td>\n",
       "      <td>0</td>\n",
       "    </tr>\n",
       "    <tr>\n",
       "      <th>4235</th>\n",
       "      <td>0</td>\n",
       "      <td>48</td>\n",
       "      <td>2.0</td>\n",
       "      <td>1</td>\n",
       "      <td>20.0</td>\n",
       "      <td>NaN</td>\n",
       "      <td>0</td>\n",
       "      <td>0</td>\n",
       "      <td>0</td>\n",
       "      <td>248.0</td>\n",
       "      <td>131.0</td>\n",
       "      <td>72.0</td>\n",
       "      <td>22.00</td>\n",
       "      <td>84.0</td>\n",
       "      <td>86.0</td>\n",
       "      <td>0</td>\n",
       "    </tr>\n",
       "    <tr>\n",
       "      <th>4236</th>\n",
       "      <td>0</td>\n",
       "      <td>44</td>\n",
       "      <td>1.0</td>\n",
       "      <td>1</td>\n",
       "      <td>15.0</td>\n",
       "      <td>0.0</td>\n",
       "      <td>0</td>\n",
       "      <td>0</td>\n",
       "      <td>0</td>\n",
       "      <td>210.0</td>\n",
       "      <td>126.5</td>\n",
       "      <td>87.0</td>\n",
       "      <td>19.16</td>\n",
       "      <td>86.0</td>\n",
       "      <td>NaN</td>\n",
       "      <td>0</td>\n",
       "    </tr>\n",
       "    <tr>\n",
       "      <th>4237</th>\n",
       "      <td>0</td>\n",
       "      <td>52</td>\n",
       "      <td>2.0</td>\n",
       "      <td>0</td>\n",
       "      <td>0.0</td>\n",
       "      <td>0.0</td>\n",
       "      <td>0</td>\n",
       "      <td>0</td>\n",
       "      <td>0</td>\n",
       "      <td>269.0</td>\n",
       "      <td>133.5</td>\n",
       "      <td>83.0</td>\n",
       "      <td>21.47</td>\n",
       "      <td>80.0</td>\n",
       "      <td>107.0</td>\n",
       "      <td>0</td>\n",
       "    </tr>\n",
       "  </tbody>\n",
       "</table>\n",
       "<p>4238 rows × 16 columns</p>\n",
       "</div>"
      ],
      "text/plain": [
       "      male  age  education  currentSmoker  cigsPerDay  BPMeds  \\\n",
       "0        1   39        4.0              0         0.0     0.0   \n",
       "1        0   46        2.0              0         0.0     0.0   \n",
       "2        1   48        1.0              1        20.0     0.0   \n",
       "3        0   61        3.0              1        30.0     0.0   \n",
       "4        0   46        3.0              1        23.0     0.0   \n",
       "...    ...  ...        ...            ...         ...     ...   \n",
       "4233     1   50        1.0              1         1.0     0.0   \n",
       "4234     1   51        3.0              1        43.0     0.0   \n",
       "4235     0   48        2.0              1        20.0     NaN   \n",
       "4236     0   44        1.0              1        15.0     0.0   \n",
       "4237     0   52        2.0              0         0.0     0.0   \n",
       "\n",
       "      prevalentStroke  prevalentHyp  diabetes  totChol  sysBP  diaBP    BMI  \\\n",
       "0                   0             0         0    195.0  106.0   70.0  26.97   \n",
       "1                   0             0         0    250.0  121.0   81.0  28.73   \n",
       "2                   0             0         0    245.0  127.5   80.0  25.34   \n",
       "3                   0             1         0    225.0  150.0   95.0  28.58   \n",
       "4                   0             0         0    285.0  130.0   84.0  23.10   \n",
       "...               ...           ...       ...      ...    ...    ...    ...   \n",
       "4233                0             1         0    313.0  179.0   92.0  25.97   \n",
       "4234                0             0         0    207.0  126.5   80.0  19.71   \n",
       "4235                0             0         0    248.0  131.0   72.0  22.00   \n",
       "4236                0             0         0    210.0  126.5   87.0  19.16   \n",
       "4237                0             0         0    269.0  133.5   83.0  21.47   \n",
       "\n",
       "      heartRate  glucose  TenYearCHD  \n",
       "0          80.0     77.0           0  \n",
       "1          95.0     76.0           0  \n",
       "2          75.0     70.0           0  \n",
       "3          65.0    103.0           1  \n",
       "4          85.0     85.0           0  \n",
       "...         ...      ...         ...  \n",
       "4233       66.0     86.0           1  \n",
       "4234       65.0     68.0           0  \n",
       "4235       84.0     86.0           0  \n",
       "4236       86.0      NaN           0  \n",
       "4237       80.0    107.0           0  \n",
       "\n",
       "[4238 rows x 16 columns]"
      ]
     },
     "execution_count": 12,
     "metadata": {},
     "output_type": "execute_result"
    }
   ],
   "source": [
    "HD_df = pd.read_csv(filepath_or_buffer='framingham.csv')\n",
    "HD_df"
   ]
  },
  {
   "cell_type": "markdown",
   "id": "a74f4040",
   "metadata": {},
   "source": [
    "1. Identify what are the data types of each column. (10)"
   ]
  },
  {
   "cell_type": "markdown",
   "id": "eec90d7d",
   "metadata": {},
   "source": [
    "Write your answer here <br>\n",
    "• Sex: (Nominal) <br>\n",
    "• Age: (Continuous - Although the recorded ages have been truncated to whole numbers, the concept of age is continuous) <br>\n",
    "• Education: Ordinal <br>\n",
    "Behavioral<br>\n",
    "• Current Smoker: (Nominal)<br>\n",
    "• Cigs Per Day: (can be considered continuous as one can have any number of cigarettes, even half a cigarette.)<br>\n",
    "Medical( history)<br>\n",
    "• BP Meds: (Nominal)<br>\n",
    "• Prevalent Stroke: (Nominal)<br>\n",
    "• Prevalent Hyp: (Nominal)<br>\n",
    "• Diabetes: (Nominal)<br>\n",
    "Medical(current)<br>\n",
    "• Tot Chol: (Continuous)<br>\n",
    "• Sys BP: (Continuous)<br>\n",
    "• Dia BP: (Continuous)<br>\n",
    "• BMI: (Continuous)<br>\n",
    "• Heart Rate: (Continuous - In medical research, variables such as heart rate though in fact discrete, yet are considered continuous because of large number of possible values.)<br>\n",
    "• Glucose: (Continuous)<br>\n",
    "Predict variable (desired target)<br>\n",
    "• 10 year risk of coronary heart disease CHD (binary: “1”, means “Yes”, “0” means “No”)<br>"
   ]
  },
  {
   "cell_type": "markdown",
   "id": "9e9c8ec5",
   "metadata": {},
   "source": [
    "2. Create a correlation heatmap of the data (10)"
   ]
  },
  {
   "cell_type": "code",
   "execution_count": 2,
   "id": "d411ac09",
   "metadata": {
    "scrolled": true
   },
   "outputs": [],
   "source": [
    "#Enter your code here."
   ]
  },
  {
   "cell_type": "markdown",
   "id": "2716a3e9",
   "metadata": {},
   "source": [
    "3. According to the heatmap, do you think some of the feature should not be count in the logistic regression? Which ones? (10)"
   ]
  },
  {
   "cell_type": "markdown",
   "id": "303022f9",
   "metadata": {},
   "source": [
    "Enter your answer here "
   ]
  },
  {
   "cell_type": "markdown",
   "id": "e236b35a",
   "metadata": {},
   "source": [
    "4. How many empty values are there in each risk factor?(10)"
   ]
  },
  {
   "cell_type": "code",
   "execution_count": 1,
   "id": "6b91e766",
   "metadata": {},
   "outputs": [],
   "source": [
    "#Enter your code here."
   ]
  },
  {
   "cell_type": "markdown",
   "id": "9d79dfc2",
   "metadata": {},
   "source": [
    "5. Show how you will handle these null values for each risk factor? Why? (10)"
   ]
  },
  {
   "cell_type": "markdown",
   "id": "70c27c9c",
   "metadata": {},
   "source": [
    "Enter your answer here"
   ]
  },
  {
   "cell_type": "markdown",
   "id": "84eb2559",
   "metadata": {},
   "source": [
    "6. Handle these null values. (10)"
   ]
  },
  {
   "cell_type": "code",
   "execution_count": 3,
   "id": "1176a000",
   "metadata": {},
   "outputs": [],
   "source": [
    "#Enter Your code here"
   ]
  },
  {
   "cell_type": "markdown",
   "id": "0c6f18e0",
   "metadata": {},
   "source": [
    "7. Show the histogram of each factors(10)"
   ]
  },
  {
   "cell_type": "code",
   "execution_count": 4,
   "id": "6ae6115b",
   "metadata": {},
   "outputs": [],
   "source": [
    "#Enter your code here"
   ]
  },
  {
   "cell_type": "markdown",
   "id": "2fd9352e",
   "metadata": {},
   "source": [
    "8. Split the data set into X_train, X_test, y_train, y_test. (10)"
   ]
  },
  {
   "cell_type": "code",
   "execution_count": 20,
   "id": "a2eea246",
   "metadata": {},
   "outputs": [],
   "source": [
    "#Enter your code here"
   ]
  },
  {
   "cell_type": "markdown",
   "id": "2820536c",
   "metadata": {},
   "source": [
    "9. Train the value and show the predict result of first 10 data points. (10)"
   ]
  },
  {
   "cell_type": "code",
   "execution_count": 5,
   "id": "fc81fe80",
   "metadata": {},
   "outputs": [],
   "source": [
    "#Enter your code here\n"
   ]
  },
  {
   "cell_type": "markdown",
   "id": "cfb21d4d",
   "metadata": {},
   "source": [
    "10. Evaluate the model.(10) (You can use any score or method to evaluate the model, but you need to explain detail about your result)"
   ]
  },
  {
   "cell_type": "code",
   "execution_count": 6,
   "id": "3f933856",
   "metadata": {},
   "outputs": [],
   "source": [
    "#Enter your code here"
   ]
  }
 ],
 "metadata": {
  "kernelspec": {
   "display_name": "Python 3 (ipykernel)",
   "language": "python",
   "name": "python3"
  },
  "language_info": {
   "codemirror_mode": {
    "name": "ipython",
    "version": 3
   },
   "file_extension": ".py",
   "mimetype": "text/x-python",
   "name": "python",
   "nbconvert_exporter": "python",
   "pygments_lexer": "ipython3",
   "version": "3.9.12"
  }
 },
 "nbformat": 4,
 "nbformat_minor": 5
}
