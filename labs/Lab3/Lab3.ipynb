{
 "cells": [
  {
   "cell_type": "markdown",
   "id": "08fbf8b3",
   "metadata": {},
   "source": [
    "### In this lab, we will practice for Naive Bayes, Cross Validation, KNN, Entropy and Decision Tree"
   ]
  },
  {
   "cell_type": "code",
   "execution_count": 15,
   "id": "4ae210db",
   "metadata": {},
   "outputs": [],
   "source": [
    "import pandas as pd\n",
    "import numpy as np\n",
    "import matplotlib.pyplot as plt\n",
    "import sklearn as skl\n",
    "import seaborn as sb\n",
    "from statistics import mean "
   ]
  },
  {
   "cell_type": "markdown",
   "id": "b8d95e7c",
   "metadata": {},
   "source": [
    "We will use the dataset \"Naive-Bayes-Classification-Data.csv\" to practice Naive Bayes classifier in python. There are 3 columns in the dataset, glucose, blood pressure and whether have diabetes. You will use glucose and blood pressure to predict diabetes. "
   ]
  },
  {
   "cell_type": "code",
   "execution_count": 4,
   "id": "8cb8e83a",
   "metadata": {},
   "outputs": [
    {
     "data": {
      "text/html": [
       "<div>\n",
       "<style scoped>\n",
       "    .dataframe tbody tr th:only-of-type {\n",
       "        vertical-align: middle;\n",
       "    }\n",
       "\n",
       "    .dataframe tbody tr th {\n",
       "        vertical-align: top;\n",
       "    }\n",
       "\n",
       "    .dataframe thead th {\n",
       "        text-align: right;\n",
       "    }\n",
       "</style>\n",
       "<table border=\"1\" class=\"dataframe\">\n",
       "  <thead>\n",
       "    <tr style=\"text-align: right;\">\n",
       "      <th></th>\n",
       "      <th>glucose</th>\n",
       "      <th>bloodpressure</th>\n",
       "      <th>diabetes</th>\n",
       "    </tr>\n",
       "  </thead>\n",
       "  <tbody>\n",
       "    <tr>\n",
       "      <th>0</th>\n",
       "      <td>40</td>\n",
       "      <td>85</td>\n",
       "      <td>0</td>\n",
       "    </tr>\n",
       "    <tr>\n",
       "      <th>1</th>\n",
       "      <td>40</td>\n",
       "      <td>92</td>\n",
       "      <td>0</td>\n",
       "    </tr>\n",
       "    <tr>\n",
       "      <th>2</th>\n",
       "      <td>45</td>\n",
       "      <td>63</td>\n",
       "      <td>1</td>\n",
       "    </tr>\n",
       "    <tr>\n",
       "      <th>3</th>\n",
       "      <td>45</td>\n",
       "      <td>80</td>\n",
       "      <td>0</td>\n",
       "    </tr>\n",
       "    <tr>\n",
       "      <th>4</th>\n",
       "      <td>40</td>\n",
       "      <td>73</td>\n",
       "      <td>1</td>\n",
       "    </tr>\n",
       "    <tr>\n",
       "      <th>5</th>\n",
       "      <td>45</td>\n",
       "      <td>82</td>\n",
       "      <td>0</td>\n",
       "    </tr>\n",
       "    <tr>\n",
       "      <th>6</th>\n",
       "      <td>40</td>\n",
       "      <td>85</td>\n",
       "      <td>0</td>\n",
       "    </tr>\n",
       "    <tr>\n",
       "      <th>7</th>\n",
       "      <td>30</td>\n",
       "      <td>63</td>\n",
       "      <td>1</td>\n",
       "    </tr>\n",
       "    <tr>\n",
       "      <th>8</th>\n",
       "      <td>65</td>\n",
       "      <td>65</td>\n",
       "      <td>1</td>\n",
       "    </tr>\n",
       "    <tr>\n",
       "      <th>9</th>\n",
       "      <td>45</td>\n",
       "      <td>82</td>\n",
       "      <td>0</td>\n",
       "    </tr>\n",
       "  </tbody>\n",
       "</table>\n",
       "</div>"
      ],
      "text/plain": [
       "   glucose  bloodpressure  diabetes\n",
       "0       40             85         0\n",
       "1       40             92         0\n",
       "2       45             63         1\n",
       "3       45             80         0\n",
       "4       40             73         1\n",
       "5       45             82         0\n",
       "6       40             85         0\n",
       "7       30             63         1\n",
       "8       65             65         1\n",
       "9       45             82         0"
      ]
     },
     "execution_count": 4,
     "metadata": {},
     "output_type": "execute_result"
    }
   ],
   "source": [
    "Diabetes = pd.read_csv(filepath_or_buffer='Naive-Bayes-Classification-Data.csv')\n",
    "Diabetes.head(10)"
   ]
  },
  {
   "cell_type": "markdown",
   "id": "a10574db",
   "metadata": {},
   "source": [
    "1. Seperate the original dataset to training set(70%) and testing set(30%), and train the Naive Bayes model with training data and test with the testing data, print out the accuracy rate. (10)"
   ]
  },
  {
   "cell_type": "code",
   "execution_count": null,
   "id": "734090c7",
   "metadata": {},
   "outputs": [],
   "source": []
  },
  {
   "cell_type": "markdown",
   "id": "d5a2bdaa",
   "metadata": {},
   "source": [
    "2. Instead of seperate training set and testing set, use K-fold cross validation to get the accuracy rate. Print all 10 accuracy score. (k = 10) (10)"
   ]
  },
  {
   "cell_type": "code",
   "execution_count": null,
   "id": "a92d990a",
   "metadata": {},
   "outputs": [],
   "source": []
  },
  {
   "cell_type": "markdown",
   "id": "38e87fb4",
   "metadata": {},
   "source": [
    "3. Explain whether we need to use Cross Validation to test the model.(10)"
   ]
  },
  {
   "cell_type": "markdown",
   "id": "574af6a3",
   "metadata": {},
   "source": []
  },
  {
   "cell_type": "markdown",
   "id": "3fc52f5d",
   "metadata": {},
   "source": [
    "4. Use the same dataset. Train a KNN model with the data.(k = 10). Print the ACC score with K-fold cross validation, k = 10.(10)"
   ]
  },
  {
   "cell_type": "code",
   "execution_count": null,
   "id": "e6f3902d",
   "metadata": {},
   "outputs": [],
   "source": []
  },
  {
   "cell_type": "markdown",
   "id": "652e4649",
   "metadata": {},
   "source": [
    "5. Next, plot misclassification error vs neighbors, and find the best k and print it's acc score.(10) "
   ]
  },
  {
   "cell_type": "code",
   "execution_count": null,
   "id": "ad0a42f2",
   "metadata": {},
   "outputs": [],
   "source": []
  },
  {
   "cell_type": "markdown",
   "id": "ec0c2671",
   "metadata": {},
   "source": [
    "6. Apply decision tree to the data, choose entropy as the criterion, max_depth = 2 (Use training set and testing set.) and print the ACC score.  (10)"
   ]
  },
  {
   "cell_type": "code",
   "execution_count": null,
   "id": "96455684",
   "metadata": {},
   "outputs": [],
   "source": []
  },
  {
   "cell_type": "markdown",
   "id": "b2c07de2",
   "metadata": {},
   "source": [
    "7. Print the tree.(10)"
   ]
  },
  {
   "cell_type": "code",
   "execution_count": null,
   "id": "582d4f85",
   "metadata": {
    "scrolled": true
   },
   "outputs": [],
   "source": []
  },
  {
   "cell_type": "markdown",
   "id": "660b7884",
   "metadata": {},
   "source": [
    "8. Calculate the root's entropy and check whether your result is the same as the tree plot(use the equation from class only use numpy to do the calculation).(10)"
   ]
  },
  {
   "cell_type": "code",
   "execution_count": null,
   "id": "d1507e62",
   "metadata": {},
   "outputs": [],
   "source": []
  },
  {
   "cell_type": "markdown",
   "id": "9bc10d75",
   "metadata": {},
   "source": [
    "9. Calculate given blood pressure <= 79, what is the entropy for pressure <= 79, what is the IG, (use the equation from class only use numpy to do the calculation). (10)"
   ]
  },
  {
   "cell_type": "code",
   "execution_count": null,
   "id": "996d5c05",
   "metadata": {},
   "outputs": [],
   "source": []
  },
  {
   "cell_type": "markdown",
   "id": "9231bd78",
   "metadata": {},
   "source": [
    "10. Find the best max_depth in Decision Tree for entopy and Gini. If it's different, explain why.(10)"
   ]
  },
  {
   "cell_type": "code",
   "execution_count": null,
   "id": "efe92f14",
   "metadata": {},
   "outputs": [],
   "source": []
  }
 ],
 "metadata": {
  "kernelspec": {
   "display_name": "Python 3 (ipykernel)",
   "language": "python",
   "name": "python3"
  },
  "language_info": {
   "codemirror_mode": {
    "name": "ipython",
    "version": 3
   },
   "file_extension": ".py",
   "mimetype": "text/x-python",
   "name": "python",
   "nbconvert_exporter": "python",
   "pygments_lexer": "ipython3",
   "version": "3.9.12"
  }
 },
 "nbformat": 4,
 "nbformat_minor": 5
}
